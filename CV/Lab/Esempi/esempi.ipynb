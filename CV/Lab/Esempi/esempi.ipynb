{
 "cells": [
  {
   "cell_type": "markdown",
   "metadata": {},
   "source": [
    "Un esempio di notebook per fare prove mentre si studiano le dispense. \n",
    "Prima di tutto importiamo OpenCV e NumPY."
   ]
  },
  {
   "cell_type": "code",
   "execution_count": 1,
   "metadata": {},
   "outputs": [],
   "source": [
    "import numpy as np\n",
    "import cv2 as cv"
   ]
  },
  {
   "cell_type": "markdown",
   "metadata": {},
   "source": [
    "Poi importiamo anche il modulo va.py che contiene la funzione che usiamo per visualizzare le immagini."
   ]
  },
  {
   "cell_type": "code",
   "execution_count": 2,
   "metadata": {},
   "outputs": [],
   "source": [
    "import va"
   ]
  },
  {
   "cell_type": "markdown",
   "metadata": {},
   "source": [
    "Ora possiamo provare a caricare e visualizzare un'immagine (supponendo che sia nella sottocartella ./immagini"
   ]
  },
  {
   "cell_type": "code",
   "execution_count": 24,
   "metadata": {},
   "outputs": [
    {
     "ename": "ValueError",
     "evalue": "high is out of bounds for int8",
     "output_type": "error",
     "traceback": [
      "\u001b[0;31m---------------------------------------------------------------------------\u001b[0m",
      "\u001b[0;31mValueError\u001b[0m                                Traceback (most recent call last)",
      "Cell \u001b[0;32mIn[24], line 1\u001b[0m\n\u001b[0;32m----> 1\u001b[0m red \u001b[39m=\u001b[39m np\u001b[39m.\u001b[39;49mrandom\u001b[39m.\u001b[39;49mrandint(\u001b[39m0\u001b[39;49m, \u001b[39m256\u001b[39;49m, (\u001b[39m20\u001b[39;49m,\u001b[39m20\u001b[39;49m), np\u001b[39m.\u001b[39;49mint8)\n\u001b[1;32m      2\u001b[0m green \u001b[39m=\u001b[39m np\u001b[39m.\u001b[39mrandom\u001b[39m.\u001b[39mrandint(\u001b[39m0\u001b[39m, \u001b[39m256\u001b[39m, (\u001b[39m20\u001b[39m,\u001b[39m20\u001b[39m), np\u001b[39m.\u001b[39mint8)\n\u001b[1;32m      3\u001b[0m blue \u001b[39m=\u001b[39m np\u001b[39m.\u001b[39mrandom\u001b[39m.\u001b[39mrandint(\u001b[39m0\u001b[39m, \u001b[39m256\u001b[39m, (\u001b[39m20\u001b[39m,\u001b[39m20\u001b[39m), np\u001b[39m.\u001b[39mint8)\n",
      "File \u001b[0;32mmtrand.pyx:769\u001b[0m, in \u001b[0;36mnumpy.random.mtrand.RandomState.randint\u001b[0;34m()\u001b[0m\n",
      "File \u001b[0;32m_bounded_integers.pyx:1518\u001b[0m, in \u001b[0;36mnumpy.random._bounded_integers._rand_int8\u001b[0;34m()\u001b[0m\n",
      "\u001b[0;31mValueError\u001b[0m: high is out of bounds for int8"
     ]
    }
   ],
   "source": [
    "\n",
    "red = np.random.randint(0, 256, (20,20), np.int8)\n",
    "green = np.random.randint(0, 256, (20,20), np.int8)\n",
    "blue = np.random.randint(0, 256, (20,20), np.int8)\n",
    "    \n",
    "img = np.array([red, green, blue])\n",
    "print(np.split(img))\n"
   ]
  },
  {
   "cell_type": "markdown",
   "metadata": {},
   "source": [
    "*Buon lavoro!*"
   ]
  },
  {
   "cell_type": "code",
   "execution_count": null,
   "metadata": {},
   "outputs": [],
   "source": []
  }
 ],
 "metadata": {
  "kernelspec": {
   "display_name": "Python 3",
   "language": "python",
   "name": "python3"
  },
  "language_info": {
   "codemirror_mode": {
    "name": "ipython",
    "version": 3
   },
   "file_extension": ".py",
   "mimetype": "text/x-python",
   "name": "python",
   "nbconvert_exporter": "python",
   "pygments_lexer": "ipython3",
   "version": "3.10.6"
  }
 },
 "nbformat": 4,
 "nbformat_minor": 2
}
