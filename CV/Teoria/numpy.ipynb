{
 "cells": [
  {
   "attachments": {},
   "cell_type": "markdown",
   "metadata": {},
   "source": [
    "# Numpy\n",
    "\n",
    "## Numpy Library\n",
    "*Numpy*, conosciuta anche come **Numerical Python** è una libreria per il calcolo scientifico in Python. \n",
    "Fornisce *array multi-dimensionali* con potenti funzionalità. Tutte le operazioni di Numpy sono **operazioni vettoriali**, ciò vuol dire che agisco su un insieme di vettori. Libreria scritta in *C*, in modo da avere un enorme vantaggio in termini di efficenza."
   ]
  },
  {
   "attachments": {},
   "cell_type": "markdown",
   "metadata": {},
   "source": [
    "### OpenCV\n",
    "OpenCV-Python utilizza *Numpy* per memorizzare e operare sulla maggior parte dei dati. Le immagini sono suddivise in canali e vengono rappresentate semplicemente come array tridimensionali (un canale per ogni colore). "
   ]
  },
  {
   "attachments": {},
   "cell_type": "markdown",
   "metadata": {},
   "source": [
    "#### Importare NUMPY"
   ]
  },
  {
   "cell_type": "code",
   "execution_count": 2,
   "metadata": {},
   "outputs": [
    {
     "name": "stdout",
     "output_type": "stream",
     "text": [
      "1.24.1\n"
     ]
    }
   ],
   "source": [
    "import numpy as np\n",
    "print(np.__version__)"
   ]
  },
  {
   "attachments": {},
   "cell_type": "markdown",
   "metadata": {},
   "source": [
    "### Array \n",
    "Gli array che vengono forniti dalla libreria, sono caratterizzati dal fatto che sono array dello stesso tipo (Es: array di interi 32 bit) memorizzati in modo contiguo. \n",
    "\n",
    "Implementa un **array multidimensionale omogeneo**, e ci sono diversi attributi per manipolare tale array:\n",
    "1. **ndim**: Il numero di dimensioni, chiamati anche assi(axes)\n",
    "2. **shape**: Una tupla di interi che indica il numero di elementi lungo ciascuna dimensione\n",
    "3. **size**: Il numero totale di elementi dell'array\n",
    "4. **dtype**: Il tipo degli elementi\n",
    "5. **itemsize**: La dimensione in byte di ogni elemento\n",
    "6. **min()**: ottenere il valore minore\n",
    "7. **max()**: ottenere il valore maggiore\n",
    "8. **sum()**: ritorna la somma di tutti i valori   "
   ]
  },
  {
   "cell_type": "code",
   "execution_count": 3,
   "metadata": {},
   "outputs": [
    {
     "name": "stdout",
     "output_type": "stream",
     "text": [
      "type:  <class 'numpy.ndarray'>\n",
      "ndime: 1\n"
     ]
    }
   ],
   "source": [
    "a = np.array([1,2,3])\n",
    "print('type: ', type(a))\n",
    "print('ndime:', a.ndim)"
   ]
  },
  {
   "cell_type": "code",
   "execution_count": 6,
   "metadata": {},
   "outputs": [
    {
     "name": "stdout",
     "output_type": "stream",
     "text": [
      "1 (3,) int64 8\n",
      "1 (3,) uint8 1\n",
      "2 (3, 3) int64 8\n"
     ]
    }
   ],
   "source": [
    "a = np.array([2,3,5])\n",
    "print(a.ndim, a.shape, a.dtype, a.itemsize)\n",
    "\n",
    "a = np.array([2,3,5], np.uint8)\n",
    "print(a.ndim, a.shape, a.dtype, a.itemsize)\n",
    "\n",
    "a = np.array([[0, 1, 2],[3, 4, 5], [6, 7, 8]])\n",
    "print(a.ndim, a.shape, a.dtype, a.itemsize)"
   ]
  },
  {
   "attachments": {},
   "cell_type": "markdown",
   "metadata": {},
   "source": [
    "### Utilizzare le funzioni di Numpy per creare array\n",
    "\n",
    "1. **empty(dim)**: realizza un array di dimensione *dim*, senza inizializzare i valori, troveremo quindi valori random letti dalla memoria\n",
    "2. **zeros(dim)**: realizza un array di dimensione *dim* con tutti zeri\n",
    "3. **ones(dim)**: realizza un array di dimensione *dim* con tutti uni\n",
    "4. **arange(start, stop, step)**: realizza un array con valori da start a stop-1 con passo *step*\n",
    "5. **identity(dim)**: realizza una matrice *identità* dim x dim\n",
    "6. **random(dim**): realizza una matrice di valori random"
   ]
  },
  {
   "cell_type": "code",
   "execution_count": 7,
   "metadata": {},
   "outputs": [
    {
     "name": "stdout",
     "output_type": "stream",
     "text": [
      "[[  3068  24658  32614      0      0      0      0]\n",
      " [     0 -31392  23056  21957      0  22816  23200]]\n"
     ]
    }
   ],
   "source": [
    "a = np.empty((2,7), np.int16)\n",
    "print(a)"
   ]
  },
  {
   "cell_type": "code",
   "execution_count": null,
   "metadata": {},
   "outputs": [],
   "source": [
    "a = np.zeros((2,2))\n",
    "print(a)"
   ]
  },
  {
   "cell_type": "code",
   "execution_count": null,
   "metadata": {},
   "outputs": [],
   "source": [
    "a = np.ones((2,2))\n",
    "print(a)"
   ]
  },
  {
   "cell_type": "code",
   "execution_count": 8,
   "metadata": {},
   "outputs": [
    {
     "name": "stdout",
     "output_type": "stream",
     "text": [
      "[100 102 104 106 108 110 112 114 116 118]\n"
     ]
    }
   ],
   "source": [
    "a = np.arange(100, 120, 2)\n",
    "print(a)"
   ]
  },
  {
   "cell_type": "code",
   "execution_count": 10,
   "metadata": {},
   "outputs": [
    {
     "name": "stdout",
     "output_type": "stream",
     "text": [
      "[[1. 0.]\n",
      " [0. 1.]]\n"
     ]
    }
   ],
   "source": [
    "a = np.identity(2)\n",
    "print(a)"
   ]
  },
  {
   "attachments": {},
   "cell_type": "markdown",
   "metadata": {},
   "source": [
    "### Operazioni di base\n",
    "\n",
    "Qualsiasi operazione che viene svolta, è una operazione **VETTORIALE**, di conseguenza qualsiasi operazione si ripercuote su tutto il vettore.\n",
    "\n",
    "* **a-b**: esegue la sottrazione tra ogni elemento\n",
    "* **a\\*\\*2**: esegue l'elevamento a potenza di ogni singolo elemento "
   ]
  },
  {
   "cell_type": "code",
   "execution_count": 12,
   "metadata": {},
   "outputs": [
    {
     "name": "stdout",
     "output_type": "stream",
     "text": [
      "[0 1 2 3]\n"
     ]
    },
    {
     "data": {
      "text/plain": [
       "array([25, 35, 47, 61])"
      ]
     },
     "execution_count": 12,
     "metadata": {},
     "output_type": "execute_result"
    }
   ],
   "source": [
    "a = np.array([25, 36, 49, 64])\n",
    "b = np.arange(4)\n",
    "print(b)\n",
    "\n",
    "c = a-b\n",
    "print(c)"
   ]
  },
  {
   "cell_type": "code",
   "execution_count": 13,
   "metadata": {},
   "outputs": [
    {
     "name": "stdout",
     "output_type": "stream",
     "text": [
      "[0 1 4 9]\n"
     ]
    }
   ],
   "source": [
    "print(b**2)"
   ]
  },
  {
   "cell_type": "code",
   "execution_count": 14,
   "metadata": {},
   "outputs": [
    {
     "name": "stdout",
     "output_type": "stream",
     "text": [
      "[ True  True False False]\n"
     ]
    }
   ],
   "source": [
    "print(a < 37)"
   ]
  },
  {
   "attachments": {},
   "cell_type": "markdown",
   "metadata": {},
   "source": [
    "#### Prodotto\n",
    "\n",
    "Il prodotto viene fatto come prodotto matriciale attraverso l'operatore **@** (riga x colonna) nel caso in cui si volesse avere il prodotto tra tutti gli elementi basta usare il valore **\\***. "
   ]
  },
  {
   "cell_type": "code",
   "execution_count": 17,
   "metadata": {},
   "outputs": [
    {
     "name": "stdout",
     "output_type": "stream",
     "text": [
      "[[2 0]\n",
      " [0 4]]\n",
      "[[5 4]\n",
      " [3 4]]\n"
     ]
    }
   ],
   "source": [
    "A = np.array([[1,1], [0,1]])\n",
    "B = np.array([[2,0], [3,4]])\n",
    "\n",
    "print(A * B)\n",
    "print(A @ B)"
   ]
  },
  {
   "attachments": {},
   "cell_type": "markdown",
   "metadata": {},
   "source": [
    "### Operatori di Casting\n",
    "\n",
    "Per effettuare il cambio di valore degli elementi di un array basta richiamre la funzione **oggetto.astype(type)**."
   ]
  },
  {
   "cell_type": "code",
   "execution_count": 18,
   "metadata": {},
   "outputs": [],
   "source": [
    "a = a.astype(np.uint32)"
   ]
  },
  {
   "cell_type": "code",
   "execution_count": 20,
   "metadata": {},
   "outputs": [
    {
     "name": "stdout",
     "output_type": "stream",
     "text": [
      "[[0.45764187 0.73852132 0.05192533]\n",
      " [0.0711221  0.42628099 0.5526592 ]]\n",
      "0.05192532781536052\n",
      "0.7385213244099484\n"
     ]
    }
   ],
   "source": [
    "a = np.random.random((2,3))\n",
    "print(a)\n",
    "print(a.min())\n",
    "print(a.max())"
   ]
  },
  {
   "cell_type": "code",
   "execution_count": 21,
   "metadata": {},
   "outputs": [
    {
     "name": "stdout",
     "output_type": "stream",
     "text": [
      "[1.24808853 1.05006229]\n",
      "[0.52876398 1.16480232 0.60458453]\n"
     ]
    }
   ],
   "source": [
    "print(a.sum(axis=1)) # somma di riga\n",
    "print(a.sum(axis=0)) #somma di colonna"
   ]
  },
  {
   "cell_type": "code",
   "execution_count": null,
   "metadata": {},
   "outputs": [],
   "source": []
  }
 ],
 "metadata": {
  "kernelspec": {
   "display_name": "Python 3",
   "language": "python",
   "name": "python3"
  },
  "language_info": {
   "codemirror_mode": {
    "name": "ipython",
    "version": 3
   },
   "file_extension": ".py",
   "mimetype": "text/x-python",
   "name": "python",
   "nbconvert_exporter": "python",
   "pygments_lexer": "ipython3",
   "version": "3.10.6"
  },
  "orig_nbformat": 4
 },
 "nbformat": 4,
 "nbformat_minor": 2
}
