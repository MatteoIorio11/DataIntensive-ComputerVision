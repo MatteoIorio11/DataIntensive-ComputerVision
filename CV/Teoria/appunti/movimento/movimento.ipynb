{
 "cells": [
  {
   "cell_type": "code",
   "execution_count": 1,
   "metadata": {},
   "outputs": [],
   "source": [
    "import numpy as np\n",
    "import cv2 as cv\n",
    "import va"
   ]
  },
  {
   "cell_type": "code",
   "execution_count": null,
   "metadata": {},
   "outputs": [],
   "source": []
  },
  {
   "cell_type": "code",
   "execution_count": 15,
   "metadata": {},
   "outputs": [],
   "source": [
    "video = cv.VideoCapture(\"./simpsons abbey road.mp4\")\n",
    "fm = []\n",
    "thr = 50\n",
    "prev = None\n",
    "\n",
    "while True:\n",
    "    ret, frame = video.read()\n",
    "    if not ret:\n",
    "        # No more frames\n",
    "        break\n",
    "    f = cv.cvtColor(frame, cv.COLOR_BGR2GRAY).astype(np.uint16)\n",
    "    if prev is not None:\n",
    "        mask = np.zeros_like(f)\n",
    "        mask[np.abs(f - prev) > thr] = 255\n",
    "        fm.append((frame, mask))\n",
    "    prev = f\n",
    "height,width,layers=fm[0][0].shape\n",
    "video.release()\n",
    "\n",
    "output=cv.VideoWriter('./video.avi', cv.VideoWriter_fourcc(*'mp4v') ,1,(width,height))\n",
    "for _, mask in fm:\n",
    "    output.write(mask)\n",
    "output.release()    \n"
   ]
  },
  {
   "cell_type": "code",
   "execution_count": 4,
   "metadata": {},
   "outputs": [],
   "source": [
    "mog = cv.createBackgroundSubtractorMOG2(detectShadows=False)\n",
    "\n",
    "video = cv.VideoCapture(\"./simpsons abbey road.mp4\")\n",
    "fm = []\n",
    "while True:\n",
    "    ret, frame = video.read()\n",
    "    if not ret:\n",
    "        break\n",
    "    f = cv.cvtColor(frame, cv.COLOR_BGR2GRAY)\n",
    "    mask = mog.apply(f)\n",
    "    fm.append((frame, mask))\n",
    "video.release()"
   ]
  }
 ],
 "metadata": {
  "kernelspec": {
   "display_name": "Python 3",
   "language": "python",
   "name": "python3"
  },
  "language_info": {
   "codemirror_mode": {
    "name": "ipython",
    "version": 3
   },
   "file_extension": ".py",
   "mimetype": "text/x-python",
   "name": "python",
   "nbconvert_exporter": "python",
   "pygments_lexer": "ipython3",
   "version": "3.10.6"
  },
  "orig_nbformat": 4
 },
 "nbformat": 4,
 "nbformat_minor": 2
}
