{
 "cells": [
  {
   "attachments": {},
   "cell_type": "markdown",
   "metadata": {},
   "source": [
    "# Simulazione 2022 06 08"
   ]
  },
  {
   "attachments": {},
   "cell_type": "markdown",
   "metadata": {},
   "source": [
    "## Teoria"
   ]
  },
  {
   "attachments": {},
   "cell_type": "markdown",
   "metadata": {},
   "source": [
    "1. Si illustri la complessità computazionale della convoluzione di un’immagine con un filtro e si descrivano brevemente\n",
    "una o più tecniche per migliorare l’efficienza di tale operazione."
   ]
  },
  {
   "attachments": {},
   "cell_type": "markdown",
   "metadata": {},
   "source": [
    "L'applicazione di un filtro di convoluzione ha una complessità computazionale di m quadro a causa delle moltiplicazioni e somme che devono essere eseguite affinché si possa applicare completamente il filtro. Una delle tecniche che può essere utilizzate per migliorare la complessità è quella di separare il filtro, sempre se il filtro generale lo permette, dividendolo in un filtro riga ed un filtro colonna. In questo modo per applicare il filtro la procedura è questa: Si applica il primo filtro all'immagine, ottenendo così un'immagine intermedia che chiameremo I', successivamente a questa immagine intermedia gli verrà applicato il rimanente filtro, in questo modo la complessità computazionale scenderà drasticamente diventando 2m. "
   ]
  },
  {
   "attachments": {},
   "cell_type": "markdown",
   "metadata": {},
   "source": [
    "2. Definire formalmente l’operatore di apertura della morfologia matematica e illustrarne brevemente il funzionamento."
   ]
  },
  {
   "attachments": {},
   "cell_type": "markdown",
   "metadata": {},
   "source": [
    "L'operatore di apertura che fa riferimento alla morofologia matematica è composto da due operazioni principali: Erosione seguita da Dilatazione. Attraverso questo operatore morfologico è possibile rimuovere piccole zone all'interno della nostra immagine ed è inoltre possibile rimuovere le zone debolmente connesse. La quantità di oggetti che si andrà a cancellare però dipende esclusivamente dalla dimensione e dalla forma dell'elemento strutturante che si andrà ad utilizzare per tale operazione."
   ]
  },
  {
   "attachments": {},
   "cell_type": "markdown",
   "metadata": {},
   "source": [
    "3. Descrivere lo spazio colore RGB e illustrarne brevemente vantaggi e svantaggi."
   ]
  },
  {
   "attachments": {},
   "cell_type": "markdown",
   "metadata": {},
   "source": [
    "Lo spazio dei colori Red, Green e Blue, può essere utilizzato come codifica per rappresentare le immagini a colori. Una immagine di tipo RGB, non è altro che un tensore 3D, in cui avremo 3 diversi layer, un layer per il colore Red, un layer per il colore Green ed un layer per il colore Blue. Lo spazio di colori RGB può essere visto come un cubo, dove al suo interno sono presenti tutte le combinazioni possibili delle tre tonalità, uno dei primi svantaggi però nell'utilizzo di questa codifica sta nel fatto che le diverse sfumature in questo spazio non sono così definite per l'occhio umano, rendendole quasi impercettibili per i nostri occhi, un vantaggio invece sta nel fatto della semplicità con la quale possono essere maneggiati i colori. "
   ]
  },
  {
   "attachments": {},
   "cell_type": "markdown",
   "metadata": {},
   "source": [
    "## Esercizio"
   ]
  },
  {
   "attachments": {},
   "cell_type": "markdown",
   "metadata": {},
   "source": [
    "1. Calcolare, per ogni pixel dell’immagine img, la media dei pixel in un intorno 7x7. Impostare a\n",
    "zero 3 pixel lungo tutti i bordi nell’immagine risultato."
   ]
  },
  {
   "attachments": {},
   "cell_type": "markdown",
   "metadata": {},
   "source": [
    "2. Calcolare l’immagine Diff in cui ciascun pixel è il valore assoluto della differenza fra il\n",
    "pixel corrispondente nell’immagine originale e il valore determinato al passo precedente."
   ]
  },
  {
   "attachments": {},
   "cell_type": "markdown",
   "metadata": {},
   "source": [
    "3. Eseguire l’operazione di contrast stretching su Diff."
   ]
  },
  {
   "attachments": {},
   "cell_type": "markdown",
   "metadata": {},
   "source": [
    "4. Binarizzare Diff utilizzando come soglia globale il valore 128."
   ]
  },
  {
   "attachments": {},
   "cell_type": "markdown",
   "metadata": {},
   "source": [
    "5. Etichettare le componenti connesse del risultato ottenuto al passo precedente; eliminare\n",
    "quindi le componenti connesse con area inferiore a 15 pixel."
   ]
  },
  {
   "attachments": {},
   "cell_type": "markdown",
   "metadata": {},
   "source": [
    "6. Restituire come output un’immagine grayscale in cui i pixel appartenenti alle componenti\n",
    "connesse rimanenti dopo il passo precedente hanno valore 255, mentre tutti gli altri 0."
   ]
  },
  {
   "cell_type": "code",
   "execution_count": 1,
   "metadata": {},
   "outputs": [],
   "source": [
    "import numpy as np\n",
    "import cv2 as cv\n",
    "import va"
   ]
  },
  {
   "cell_type": "code",
   "execution_count": 45,
   "metadata": {},
   "outputs": [],
   "source": [
    "def esercizio(img):\n",
    "    # Parte 1\n",
    "    img1 = cv.boxFilter(img, -1, (7,7))\n",
    "    img1[0:3,:] = 0\n",
    "    img1[-3:,:] = 0\n",
    "    img1[:, 0:3] = 0\n",
    "    img1[:, -3:] = 0\n",
    "    # Parte 2\n",
    "    diff = np.abs(img - img1)\n",
    "    # Parte 3\n",
    "    alpha = np.percentile(diff, 5)\n",
    "    beta = np.percentile(diff, 95)\n",
    "    \n",
    "    den = (beta - alpha) if alpha != beta else 1\n",
    "    diff = 255 * (diff - alpha)/den\n",
    "    diff = diff.astype(np.uint8)\n",
    "    # Parte 4\n",
    "    _, img2 = cv.threshold(diff, 128, 255, cv.THRESH_BINARY)\n",
    "    # Parte 5\n",
    "    n, cc, stats, _ = cv.connectedComponentsWithStats(img2)\n",
    "    for comp in range(1, n):\n",
    "        area = stats[comp, cv.CC_STAT_AREA]\n",
    "        if area < 15:\n",
    "            cc[cc == comp] = 0\n",
    "    \n",
    "    cc[cc > 0] = 255\n",
    "    return cc\n"
   ]
  },
  {
   "cell_type": "code",
   "execution_count": 56,
   "metadata": {},
   "outputs": [],
   "source": [
    "def esercizio_ottimo(img):\n",
    "    img1 = cv.boxFilter(img, -1, (7,7))\n",
    "    img1[0:3,:], img1[-3:,:], img1[:,0:3], img1[:,-3:] = 0,0,0,0\n",
    "    Diff = np.abs(img - img1)\n",
    "    v_min, v_max = Diff.min(), Diff.max()\n",
    "    if v_max > v_min:\n",
    "        Diff = (255 * (Diff - v_min)/(v_max - v_min)).astype(np.uint8)\n",
    "    _, bin_img = cv.threshold(Diff, 128, 255, cv.THRESH_BINARY)\n",
    "    n, cc, stats, _ = cv.connectedComponentsWithStats(bin_img)\n",
    "    toRemove = np.argwhere(stats[:, cv.CC_STAT_AREA] < 15)\n",
    "    return np.where(np.isin(cc, toRemove), 0, bin_img).astype(np.uint8)\n",
    "\n",
    "    "
   ]
  },
  {
   "cell_type": "code",
   "execution_count": 43,
   "metadata": {},
   "outputs": [
    {
     "data": {
      "text/html": [
       "<table><tr><td style='text-align:center;'></td></tr><tr><td style='text-align:center;'><img src='data:image/png;base64,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'></td></tr></table>"
      ],
      "text/plain": [
       "<IPython.core.display.HTML object>"
      ]
     },
     "metadata": {},
     "output_type": "display_data"
    }
   ],
   "source": [
    "img = np.random.randint(0, 255, (20, 20), dtype=np.uint8)\n",
    "va.show(img)"
   ]
  },
  {
   "cell_type": "code",
   "execution_count": 57,
   "metadata": {},
   "outputs": [
    {
     "data": {
      "text/html": [
       "<table><tr><td style='text-align:center;'></td><td style='text-align:center;'></td></tr><tr><td style='text-align:center;'><img src='data:image/png;base64,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'></td><td style='text-align:center;'><img src='data:image/png;base64,iVBORw0KGgoAAAANSUhEUgAAAZAAAAGQCAAAAACl1GkQAAADNklEQVR4Ae3BMQEAAACDIO1fejU8BnIpcilyKXIpcilyKXIpcilyKXIpcilyKXIpcilyKXIpcilyKXIpcilyKXIpcilyKXIpcilyKXIpcilyKXIpcilyKXIpcilyKXIpcilyKXIpcilyKXIpcilyKXIpcilyKXIpcilyKXIpcilyKXIpcilyKXIpcilyKXIpcilyKXIpcilyKXIpcilyKXIpcilyKXIpcilyKXIpcilyKXIpcilyKXIpcilyKXIpcilyKXIpcilyKXIpcilyKXIpcilyKXIpcilyKXIpcilyKXIpcilyKXIpcilyKXIpcilyKXIpcilyKXIpcilyKXIpcilyKXIpcilyKXIpcilyKXIpcilyKXIpcilyKXIpcilyKXIpcilyKXIpcilyKXIpcilyKXIpcilyKXIpcilyKXIpcilyKXIpcilyKXIpcilyKXIpcilyKXIpcilyKXIpcilyKXIpcilyKXIpcilyKXIpcilyKXIpcilyKXIpcilyKXIpcilyKXIpcilyKXIpcilyKXIpcilyKXIpcilyKXIpcilyKXIpcilyKXIpcilyKXIpcilyKXIpcilyKXIpcilyKXIpcilyKXIpcilyKXIpcilyKXIpcilyKXIpcilyKXIpcilyKXIpcilyKXIpcilyKXIpcilyKXIpcilyKXIpcilyKXIpcilyKXIpcilyKXIpcilyKXIpcilyKXIpcilyKXIpcilyKXIpcilyKXIpcilyKXIpcilyKXIpcilyKXIpcilyKXIpcilyKXIpcilyKXIpcilyKXIpcilyKXIpcilyKXIpcilyKXIpcilyKXIpcilyKXIpcilyKXIpcilyKXIpcilyKXIpcilyKXIpcilyKXIpcilyKXIpcilyKXIpcilyKXIpcilyKXIpcilyKXIpcilyKXIpcilyKXIpcilyKXIpcilyKXIpcilyKXIpcilyKXIpcilyKXIpcilyKXIpcilyKXIpcilyKXIpcilyKXIpcilyKXIpcilyKXIpcilyKXIpcilyKXIpcilyKXIpcilyKXIpcilyKXIpcilyKXIpcilyKXIpcilyKXIpA0k7AZFHBcPxAAAAAElFTkSuQmCC'></td></tr></table>"
      ],
      "text/plain": [
       "<IPython.core.display.HTML object>"
      ]
     },
     "metadata": {},
     "output_type": "display_data"
    }
   ],
   "source": [
    "o = esercizio(img)\n",
    "o2 = esercizio_ottimo(img)\n",
    "va.show(o, o2)"
   ]
  }
 ],
 "metadata": {
  "kernelspec": {
   "display_name": "Python 3",
   "language": "python",
   "name": "python3"
  },
  "language_info": {
   "codemirror_mode": {
    "name": "ipython",
    "version": 3
   },
   "file_extension": ".py",
   "mimetype": "text/x-python",
   "name": "python",
   "nbconvert_exporter": "python",
   "pygments_lexer": "ipython3",
   "version": "3.10.6"
  },
  "orig_nbformat": 4
 },
 "nbformat": 4,
 "nbformat_minor": 2
}
