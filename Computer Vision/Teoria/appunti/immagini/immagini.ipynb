{
 "cells": [
  {
   "attachments": {},
   "cell_type": "markdown",
   "metadata": {},
   "source": [
    "# Immagini"
   ]
  },
  {
   "cell_type": "code",
   "execution_count": 17,
   "metadata": {},
   "outputs": [],
   "source": [
    "import numpy as np\n",
    "import va"
   ]
  },
  {
   "cell_type": "code",
   "execution_count": 22,
   "metadata": {},
   "outputs": [
    {
     "data": {
      "text/html": [
       "<table><tr><td style='text-align:center;'></td></tr><tr><td style='text-align:center;'><img src='data:image/png;base64,iVBORw0KGgoAAAANSUhEUgAAAZAAAAF3CAAAAACulUIqAAADwElEQVR4Ae3BMQEAAACCMO0fGmtwuJWcScmZlJxJyZmUnEnJmZScScmZlJxJyZmUnEnJmZScScmZlJxJyZmUnEnJmZScScmZlJxJyZmUnEnJmZScScmZlJxJyZmUnEnJmZScScmZlJxJyZmUnEnJmZScScmZlJxJyZmUnEnJmZScScmZlJxJyZmUnEnJmZScScmZlJxJyZmUnEnJmZScScmZlJxJyZmUnEnJmZScScmZlJxJyZmUnEnJmZScScmZlJxJyZmUnEnJmZScScmZlJxJyZmUnEnJmZScScmZlJxJyZmUnEnJmZScScmZlJxJyZmUnEnJmZScScmZlJxJyZmUnEnJmZScScmZlJxJyZmUnEnJmZScScmZlJxJyZmUnEnJmZScScmZlJxJyZmUnEnJmZScScmZlJxJyZmUnEnJmZScScmZlJxJyZmUnEnJmZScScmZlJxJyZmUnEnJmZScScmZlJxJyZmUnEnJmZScScmZlJxJyZmUnEnJmZScScmZlJxJyZmUnEnJmZScScmZlJxJyZmUnEnJmZScScmZlJxJyZmUnEnJmZScScmZlJxJyZmUnEnJmZScScmZlJxJyZmUnEnJmZScScmZlJxJyZmUnEnJmZScScmZlJxJyZmUnEnJmZScScmZlJxJyZmUnEnJmZScScmZlJxJyZmUnEnJmZScScmZlJxJyZmUnEnJmZScScmZlJxJyZmUnEnJmZScScmZlJxJyZmUnEnJmZScScmZlJxJyZmUnEnJmZScScmZlJxJyZmUnEnJmZScScmZlJxJyZmUnEnJmZScScmZlJxJyZmUnEnJmZScScmZlJxJyZmUnEnJmZScScmZlJxJyZmUnEnJmZScScmZlJxJyZmUnEnJmZScScmZlJxJyZmUnEnJmZScScmZlJxJyZmUnEnJmZScScmZlJxJyZmUnEnJmZScScmZlJxJyZmUnEnJmZScScmZlJxJyZmUnEnJmZScScmZlJxJyZmUnEnJmZScScmZlJxJyZmUnEnJmZScScmZlJxJyZmUnEnJmZScScmZlJxJyZmUnEnJmZScScmZlJxJyZmUnEnJmZScScmZlJxJyZmUnEnJmZScScmZlJxJyZmUnEnJmZScScmZlJxJyZmUnEnJmZScScmZlJxJyZmUnEnJmZScScmZlJxJyZmUnEnJmZScScmZlJxJyZmUnEnJmZScScmZlJxJyZmUnEnJmZScScmZlJxJyZmUnEnJmZScScmZlJxJyZmUnEnJmZScScmZlJzJAMH1dxDQvN+LAAAAAElFTkSuQmCC'></td></tr></table>"
      ],
      "text/plain": [
       "<IPython.core.display.HTML object>"
      ]
     },
     "metadata": {},
     "output_type": "display_data"
    }
   ],
   "source": [
    "img = np.full((15, 16), 255, dtype=np.uint8)\n",
    "img2 = img.copy()\n",
    "img3 = img.copy()\n",
    "va.show(img)"
   ]
  },
  {
   "cell_type": "code",
   "execution_count": 19,
   "metadata": {},
   "outputs": [
    {
     "data": {
      "text/html": [
       "<table><tr><td style='text-align:center;'>img</td></tr><tr><td style='text-align:center;'><img src='data:image/png;base64,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'></td></tr></table>"
      ],
      "text/plain": [
       "<IPython.core.display.HTML object>"
      ]
     },
     "metadata": {},
     "output_type": "display_data"
    }
   ],
   "source": [
    "\n",
    "img[2:-2, 2:-2] = 0 #Incomincio dalla seconda riga e termino alla terzultima riga, stesso discorso con le colonne\n",
    "img[4:-4, 4:-4] = 128\n",
    "img[6:-6, 6:-6] = 64\n",
    "va.show((img, \"img\"))"
   ]
  },
  {
   "cell_type": "code",
   "execution_count": 25,
   "metadata": {},
   "outputs": [
    {
     "data": {
      "text/html": [
       "<table><tr><td style='text-align:center;'></td></tr><tr><td style='text-align:center;'><img src='data:image/png;base64,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'></td></tr></table>"
      ],
      "text/plain": [
       "<IPython.core.display.HTML object>"
      ]
     },
     "metadata": {},
     "output_type": "display_data"
    }
   ],
   "source": [
    "img2[:, 1::2] = 0 # tutte le colonne dispari vengono messe a 0\n",
    "img2[1::2, :] = 0 # tutte le righe dispari sono messe a 0\n",
    "va.show(img2)"
   ]
  },
  {
   "cell_type": "code",
   "execution_count": 62,
   "metadata": {},
   "outputs": [
    {
     "data": {
      "text/plain": [
       "(15,)"
      ]
     },
     "execution_count": 62,
     "metadata": {},
     "output_type": "execute_result"
    }
   ],
   "source": [
    "values = np.zeros_like(img)\n",
    "aa = np.arange(start=0, stop=255, step=17, like=img)\n",
    "aa.shape"
   ]
  }
 ],
 "metadata": {
  "kernelspec": {
   "display_name": "Python 3",
   "language": "python",
   "name": "python3"
  },
  "language_info": {
   "codemirror_mode": {
    "name": "ipython",
    "version": 3
   },
   "file_extension": ".py",
   "mimetype": "text/x-python",
   "name": "python",
   "nbconvert_exporter": "python",
   "pygments_lexer": "ipython3",
   "version": "3.10.6"
  },
  "orig_nbformat": 4
 },
 "nbformat": 4,
 "nbformat_minor": 2
}
