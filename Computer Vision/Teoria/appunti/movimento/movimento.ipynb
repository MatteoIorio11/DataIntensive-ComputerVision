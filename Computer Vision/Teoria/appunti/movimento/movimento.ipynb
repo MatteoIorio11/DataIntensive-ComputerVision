{
 "cells": [
  {
   "cell_type": "code",
   "execution_count": 2,
   "metadata": {},
   "outputs": [],
   "source": [
    "import numpy as np\n",
    "import cv2 as cv\n",
    "import va\n",
    "from ipywidgets import interact"
   ]
  },
  {
   "cell_type": "code",
   "execution_count": 5,
   "metadata": {},
   "outputs": [],
   "source": [
    "video = cv.VideoCapture(\"./simpsons abbey road.mp4\")\n",
    "prev = None\n",
    "fm = []\n",
    "thr = 50\n",
    "while True:\n",
    "    ret, frame = video.read()\n",
    "    if not ret:\n",
    "        # No more frames\n",
    "        break\n",
    "    f = cv.cvtColor(frame, cv.COLOR_BGR2GRAY).astype(np.uint16)\n",
    "    if prev is not None:\n",
    "        mask = np.zeros_like(f)\n",
    "        mask[np.abs(f - prev) > thr] = 255\n",
    "        fm.append((frame, mask))\n",
    "    prev = f\n",
    "video.release()\n"
   ]
  },
  {
   "cell_type": "code",
   "execution_count": 6,
   "metadata": {},
   "outputs": [
    {
     "data": {
      "application/vnd.jupyter.widget-view+json": {
       "model_id": "3883f780222b4965b40a16588a6b3a97",
       "version_major": 2,
       "version_minor": 0
      },
      "text/plain": [
       "interactive(children=(IntSlider(value=0, description='i', max=241), Output()), _dom_classes=('widget-interact'…"
      ]
     },
     "metadata": {},
     "output_type": "display_data"
    }
   ],
   "source": [
    "@interact(i=(0,len(fm)-1))\n",
    "def frameVision(i=0):\n",
    "    va.show(fm[i][1])\n"
   ]
  },
  {
   "cell_type": "code",
   "execution_count": 7,
   "metadata": {},
   "outputs": [],
   "source": [
    "mog = cv.createBackgroundSubtractorMOG2(detectShadows=False)\n",
    "\n",
    "video = cv.VideoCapture(\"./simpsons abbey road.mp4\")\n",
    "fm = []\n",
    "while True:\n",
    "    ret, frame = video.read()\n",
    "    if not ret:\n",
    "        break\n",
    "    f = cv.cvtColor(frame, cv.COLOR_BGR2GRAY)\n",
    "    mask = mog.apply(f)\n",
    "    fm.append((frame, mask))\n",
    "video.release()"
   ]
  },
  {
   "cell_type": "code",
   "execution_count": 8,
   "metadata": {},
   "outputs": [
    {
     "data": {
      "application/vnd.jupyter.widget-view+json": {
       "model_id": "4cd116cf4bb54509912737e05c3dc27f",
       "version_major": 2,
       "version_minor": 0
      },
      "text/plain": [
       "interactive(children=(IntSlider(value=0, description='i', max=242), Output()), _dom_classes=('widget-interact'…"
      ]
     },
     "metadata": {},
     "output_type": "display_data"
    }
   ],
   "source": [
    "@interact(i=(0,len(fm)-1))\n",
    "def frameVisionMOG(i=0):\n",
    "    va.show(fm[i][1])\n"
   ]
  },
  {
   "attachments": {},
   "cell_type": "markdown",
   "metadata": {},
   "source": [
    "## Improve the FRAME\n",
    "1. Resize del frame in modo da mantenere il focus solamente sull'oggetto in movimento"
   ]
  },
  {
   "cell_type": "code",
   "execution_count": 12,
   "metadata": {},
   "outputs": [],
   "source": [
    "MASK_SF = 2.0\n",
    "\n",
    "video = cv.VideoCapture(\"./simpsons abbey road.mp4\")\n",
    "fm1 = []\n",
    "while True:\n",
    "    ret, frame = video.read()\n",
    "    if not ret:\n",
    "        break\n",
    "    f = cv.cvtColor(frame, cv.COLOR_BGR2GRAY)\n",
    "    mask = mog.apply(cv.resize(f, None, fx=1/MASK_SF, fy=1/MASK_SF))\n",
    "    n_mask = cv.resize(mask, None, fx=MASK_SF, fy=MASK_SF, interpolation=cv.INTER_NEAREST)\n",
    "    fm1.append((frame, mask))\n",
    "video.release()\n"
   ]
  },
  {
   "cell_type": "code",
   "execution_count": 13,
   "metadata": {},
   "outputs": [
    {
     "data": {
      "application/vnd.jupyter.widget-view+json": {
       "model_id": "a7040bfbed224f4ba516b5dca0473a9e",
       "version_major": 2,
       "version_minor": 0
      },
      "text/plain": [
       "interactive(children=(IntSlider(value=0, description='i', max=242), Output()), _dom_classes=('widget-interact'…"
      ]
     },
     "metadata": {},
     "output_type": "display_data"
    }
   ],
   "source": [
    "@interact(i=(0,len(fm1)-1))\n",
    "def frameVisionMOG2(i=0):\n",
    "    va.show(fm1[i][1])\n"
   ]
  },
  {
   "attachments": {},
   "cell_type": "markdown",
   "metadata": {},
   "source": [
    "2. Utilizzo delle componenti connesse per eliminare tutte le componenti con area minore di una certa soglia"
   ]
  },
  {
   "cell_type": "code",
   "execution_count": 20,
   "metadata": {},
   "outputs": [],
   "source": [
    "MASK_SF = 2.0\n",
    "\n",
    "video = cv.VideoCapture(\"./simpsons abbey road.mp4\")\n",
    "fm2 = []\n",
    "while True:\n",
    "    ret, frame = video.read()\n",
    "    if not ret:\n",
    "        break\n",
    "    f = cv.cvtColor(frame, cv.COLOR_BGR2GRAY)\n",
    "    mask = mog.apply(cv.resize(f, None, fx=1/MASK_SF, fy=1/MASK_SF))\n",
    "    n, cc, stats, _ = cv.connectedComponentsWithStats(mask)\n",
    "    small = [i for i in range(1, n) if stats[i, cv.CC_STAT_AREA] < 70]\n",
    "    mask[np.isin(cc, small)] = 0\n",
    "    n_mask = cv.resize(mask, None, fx=MASK_SF, fy=MASK_SF, interpolation=cv.INTER_NEAREST)\n",
    "    fm2.append((frame, mask))\n",
    "video.release()\n"
   ]
  },
  {
   "cell_type": "code",
   "execution_count": 21,
   "metadata": {},
   "outputs": [
    {
     "data": {
      "application/vnd.jupyter.widget-view+json": {
       "model_id": "939673b61ce54208addcbc301e18a00d",
       "version_major": 2,
       "version_minor": 0
      },
      "text/plain": [
       "interactive(children=(IntSlider(value=0, description='i', max=242), Output()), _dom_classes=('widget-interact'…"
      ]
     },
     "metadata": {},
     "output_type": "display_data"
    }
   ],
   "source": [
    "@interact(i=(0,len(fm1)-1))\n",
    "def frameVisionMOG2(i=0):\n",
    "    va.show(fm2[i][1])\n"
   ]
  },
  {
   "attachments": {},
   "cell_type": "markdown",
   "metadata": {},
   "source": [
    "3. Riempio i buchi all'interno delle componenti connesse"
   ]
  },
  {
   "cell_type": "code",
   "execution_count": 38,
   "metadata": {},
   "outputs": [],
   "source": [
    "MASK_SF = 2.0\n",
    "se = cv.getStructuringElement(cv.MORPH_ELLIPSE, (5, 5))\n",
    "video = cv.VideoCapture(\"./simpsons abbey road.mp4\")\n",
    "fm3 = []\n",
    "while True:\n",
    "    ret, frame = video.read()\n",
    "    if not ret:\n",
    "        break\n",
    "    f = cv.cvtColor(frame, cv.COLOR_BGR2GRAY)\n",
    "    mask = mog.apply(cv.resize(f, None, fx=1/MASK_SF, fy=1/MASK_SF))\n",
    "    \n",
    "    mask = cv.morphologyEx(mask, cv.MORPH_CLOSE, se)\n",
    "    n, cc, stats, _ = cv.connectedComponentsWithStats(mask, connectivity=4)\n",
    "    small = [i for i in range(1, n) if stats[i, cv.CC_STAT_AREA] < 70]\n",
    "    mask[np.isin(cc, small)] = 0\n",
    "    \n",
    "    n, cc, stats, _ = cv.connectedComponentsWithStats(mask, connectivity=4)\n",
    "    holes = [i for i in range(1, n) if stats[i, cv.CC_STAT_AREA] < 2000]\n",
    "    mask[np.isin(cc, holes)] = 255\n",
    "    \n",
    "    \n",
    "    n_mask = cv.resize(mask, None, fx=MASK_SF, fy=MASK_SF, interpolation=cv.INTER_NEAREST)\n",
    "    fm3.append((frame, mask))\n",
    "video.release()\n"
   ]
  },
  {
   "cell_type": "code",
   "execution_count": 39,
   "metadata": {},
   "outputs": [
    {
     "data": {
      "application/vnd.jupyter.widget-view+json": {
       "model_id": "7daaf34e0e7e496bae3356b9b0874cc6",
       "version_major": 2,
       "version_minor": 0
      },
      "text/plain": [
       "interactive(children=(IntSlider(value=0, description='i', max=242), Output()), _dom_classes=('widget-interact'…"
      ]
     },
     "metadata": {},
     "output_type": "display_data"
    }
   ],
   "source": [
    "@interact(i=(0,len(fm1)-1))\n",
    "def frameVisionMOG2(i=0):\n",
    "    va.show(fm3[i][1])\n"
   ]
  },
  {
   "attachments": {},
   "cell_type": "markdown",
   "metadata": {},
   "source": [
    "## Mean SHIFT"
   ]
  }
 ],
 "metadata": {
  "kernelspec": {
   "display_name": "Python 3",
   "language": "python",
   "name": "python3"
  },
  "language_info": {
   "codemirror_mode": {
    "name": "ipython",
    "version": 3
   },
   "file_extension": ".py",
   "mimetype": "text/x-python",
   "name": "python",
   "nbconvert_exporter": "python",
   "pygments_lexer": "ipython3",
   "version": "3.10.6"
  },
  "orig_nbformat": 4
 },
 "nbformat": 4,
 "nbformat_minor": 2
}
