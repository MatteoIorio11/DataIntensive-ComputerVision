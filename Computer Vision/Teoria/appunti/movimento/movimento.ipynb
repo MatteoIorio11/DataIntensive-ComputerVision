{
 "cells": [
  {
   "cell_type": "code",
   "execution_count": 9,
   "metadata": {},
   "outputs": [],
   "source": [
    "import numpy as np\n",
    "import cv2 as cv\n",
    "import va\n",
    "from ipywidgets import interact"
   ]
  },
  {
   "cell_type": "code",
   "execution_count": 10,
   "metadata": {},
   "outputs": [],
   "source": [
    "video = cv.VideoCapture(\"./simpsons abbey road.mp4\")\n",
    "prev = None\n",
    "fm = []\n",
    "thr = 50\n",
    "while True:\n",
    "    ret, frame = video.read()\n",
    "    if not ret:\n",
    "        # No more frames\n",
    "        break\n",
    "    f = cv.cvtColor(frame, cv.COLOR_BGR2GRAY).astype(np.uint16)\n",
    "    if prev is not None:\n",
    "        mask = np.zeros_like(f)\n",
    "        mask[np.abs(f - prev) > thr] = 255\n",
    "        fm.append((frame, mask))\n",
    "    prev = f\n",
    "video.release()\n"
   ]
  },
  {
   "cell_type": "code",
   "execution_count": 11,
   "metadata": {},
   "outputs": [
    {
     "data": {
      "application/vnd.jupyter.widget-view+json": {
       "model_id": "1cb42084f4794ed7ad1740a7e30f6a77",
       "version_major": 2,
       "version_minor": 0
      },
      "text/plain": [
       "interactive(children=(IntSlider(value=0, description='i', max=241), Output()), _dom_classes=('widget-interact'…"
      ]
     },
     "metadata": {},
     "output_type": "display_data"
    }
   ],
   "source": [
    "@interact(i=(0,len(fm)-1))\n",
    "def frameVision(i=0):\n",
    "    va.show(fm[i][1])\n"
   ]
  },
  {
   "cell_type": "code",
   "execution_count": 12,
   "metadata": {},
   "outputs": [],
   "source": [
    "mog = cv.createBackgroundSubtractorMOG2(detectShadows=False)\n",
    "\n",
    "video = cv.VideoCapture(\"./simpsons abbey road.mp4\")\n",
    "fm = []\n",
    "while True:\n",
    "    ret, frame = video.read()\n",
    "    if not ret:\n",
    "        break\n",
    "    f = cv.cvtColor(frame, cv.COLOR_BGR2GRAY)\n",
    "    mask = mog.apply(f)\n",
    "    fm.append((frame, mask))\n",
    "video.release()"
   ]
  },
  {
   "cell_type": "code",
   "execution_count": 13,
   "metadata": {},
   "outputs": [
    {
     "data": {
      "application/vnd.jupyter.widget-view+json": {
       "model_id": "b230bd783b5947b281efc0189288c063",
       "version_major": 2,
       "version_minor": 0
      },
      "text/plain": [
       "interactive(children=(IntSlider(value=0, description='i', max=242), Output()), _dom_classes=('widget-interact'…"
      ]
     },
     "metadata": {},
     "output_type": "display_data"
    }
   ],
   "source": [
    "@interact(i=(0,len(fm)-1))\n",
    "def frameVisionMOG(i=0):\n",
    "    va.show(fm[i][1])\n"
   ]
  },
  {
   "attachments": {},
   "cell_type": "markdown",
   "metadata": {},
   "source": [
    "## Improve the FRAME\n",
    "1. Resize del frame in modo da mantenere il focus solamente sull'oggetto in movimento"
   ]
  },
  {
   "cell_type": "code",
   "execution_count": 14,
   "metadata": {},
   "outputs": [],
   "source": [
    "MASK_SF = 2.0\n",
    "\n",
    "video = cv.VideoCapture(\"./simpsons abbey road.mp4\")\n",
    "fm1 = []\n",
    "while True:\n",
    "    ret, frame = video.read()\n",
    "    if not ret:\n",
    "        break\n",
    "    f = cv.cvtColor(frame, cv.COLOR_BGR2GRAY)\n",
    "    mask = mog.apply(cv.resize(f, None, fx=1/MASK_SF, fy=1/MASK_SF))\n",
    "    n_mask = cv.resize(mask, None, fx=MASK_SF, fy=MASK_SF, interpolation=cv.INTER_NEAREST)\n",
    "    fm1.append((frame, mask))\n",
    "video.release()\n"
   ]
  },
  {
   "cell_type": "code",
   "execution_count": 15,
   "metadata": {},
   "outputs": [
    {
     "data": {
      "application/vnd.jupyter.widget-view+json": {
       "model_id": "e6cbecf7cfcd4b9d9cfe3ff1059376e1",
       "version_major": 2,
       "version_minor": 0
      },
      "text/plain": [
       "interactive(children=(IntSlider(value=0, description='i', max=242), Output()), _dom_classes=('widget-interact'…"
      ]
     },
     "metadata": {},
     "output_type": "display_data"
    }
   ],
   "source": [
    "@interact(i=(0,len(fm1)-1))\n",
    "def frameVisionMOG2(i=0):\n",
    "    va.show(fm1[i][1])\n"
   ]
  },
  {
   "attachments": {},
   "cell_type": "markdown",
   "metadata": {},
   "source": [
    "2. Utilizzo delle componenti connesse per eliminare tutte le componenti con area minore di una certa soglia"
   ]
  },
  {
   "cell_type": "code",
   "execution_count": 16,
   "metadata": {},
   "outputs": [],
   "source": [
    "MASK_SF = 2.0\n",
    "\n",
    "video = cv.VideoCapture(\"./simpsons abbey road.mp4\")\n",
    "fm2 = []\n",
    "while True:\n",
    "    ret, frame = video.read()\n",
    "    if not ret:\n",
    "        break\n",
    "    f = cv.cvtColor(frame, cv.COLOR_BGR2GRAY)\n",
    "    mask = mog.apply(cv.resize(f, None, fx=1/MASK_SF, fy=1/MASK_SF))\n",
    "    n, cc, stats, _ = cv.connectedComponentsWithStats(mask)\n",
    "    small = [i for i in range(1, n) if stats[i, cv.CC_STAT_AREA] < 70]\n",
    "    mask[np.isin(cc, small)] = 0\n",
    "    n_mask = cv.resize(mask, None, fx=MASK_SF, fy=MASK_SF, interpolation=cv.INTER_NEAREST)\n",
    "    fm2.append((frame, mask))\n",
    "video.release()\n"
   ]
  },
  {
   "cell_type": "code",
   "execution_count": 17,
   "metadata": {},
   "outputs": [
    {
     "data": {
      "application/vnd.jupyter.widget-view+json": {
       "model_id": "a5662c4aa0a04cbdb39808d19a51ccb3",
       "version_major": 2,
       "version_minor": 0
      },
      "text/plain": [
       "interactive(children=(IntSlider(value=0, description='i', max=242), Output()), _dom_classes=('widget-interact'…"
      ]
     },
     "metadata": {},
     "output_type": "display_data"
    }
   ],
   "source": [
    "@interact(i=(0,len(fm1)-1))\n",
    "def frameVisionMOG2(i=0):\n",
    "    va.show(fm2[i][1])\n"
   ]
  },
  {
   "attachments": {},
   "cell_type": "markdown",
   "metadata": {},
   "source": [
    "3. Riempio i buchi all'interno delle componenti connesse"
   ]
  },
  {
   "cell_type": "code",
   "execution_count": 41,
   "metadata": {},
   "outputs": [],
   "source": [
    "MASK_SF = 2.0\n",
    "se = cv.getStructuringElement(cv.MORPH_ELLIPSE, (5, 5))\n",
    "video = cv.VideoCapture(\"./simpsons abbey road.mp4\")\n",
    "fm3 = []\n",
    "while True:\n",
    "    ret, frame = video.read()\n",
    "    if not ret:\n",
    "        break\n",
    "    f = cv.cvtColor(frame, cv.COLOR_BGR2GRAY)\n",
    "    mask = mog.apply(cv.resize(f, None, fx=1/MASK_SF, fy=1/MASK_SF))\n",
    "    \n",
    "    mask = cv.morphologyEx(mask, cv.MORPH_CLOSE, se)\n",
    "    n, cc, stats, _ = cv.connectedComponentsWithStats(mask, connectivity=4)\n",
    "    small = [i for i in range(1, n) if stats[i, cv.CC_STAT_AREA] < 70]\n",
    "    mask[np.isin(cc, small)] = 0\n",
    "    \n",
    "    n, cc, stats, _ = cv.connectedComponentsWithStats(mask, connectivity=4)\n",
    "    holes = [i for i in range(1, n) if stats[i, cv.CC_STAT_AREA] < 2000]\n",
    "    mask[np.isin(cc, holes)] = 255\n",
    "    \n",
    "    \n",
    "    n_mask = cv.resize(mask, None, fx=MASK_SF, fy=MASK_SF, interpolation=cv.INTER_NEAREST)\n",
    "    fm3.append((frame, mask))\n",
    "video.release()\n"
   ]
  },
  {
   "cell_type": "code",
   "execution_count": 42,
   "metadata": {},
   "outputs": [
    {
     "data": {
      "application/vnd.jupyter.widget-view+json": {
       "model_id": "14dd79f4572940e7aa67fe1be7a47c41",
       "version_major": 2,
       "version_minor": 0
      },
      "text/plain": [
       "interactive(children=(IntSlider(value=0, description='i', max=242), Output()), _dom_classes=('widget-interact'…"
      ]
     },
     "metadata": {},
     "output_type": "display_data"
    }
   ],
   "source": [
    "@interact(i=(0,len(fm1)-1))\n",
    "def frameVisionMOG2(i=0):\n",
    "    va.show(fm3[i][1])\n"
   ]
  },
  {
   "attachments": {},
   "cell_type": "markdown",
   "metadata": {},
   "source": [
    "## Mean SHIFT"
   ]
  },
  {
   "cell_type": "code",
   "execution_count": 26,
   "metadata": {},
   "outputs": [],
   "source": [
    "term_crit= ( cv.TERM_CRITERIA_EPS | cv.TermCriteria_COUNT, 10, 1)\n",
    "MIN_ARE_IN_WND = 20\n",
    "MIN_AREA = 500"
   ]
  },
  {
   "cell_type": "code",
   "execution_count": 39,
   "metadata": {},
   "outputs": [],
   "source": [
    "def get_window_hist(i, frame, stats, mask):\n",
    "    x, y = stats[i, cv.CC_STAT_LEFT], stats[i, cv.CC_STAT_TOP]\n",
    "    w, h = stats[i, cv.CC_STAT_WIDTH], stats[i, cv.CC_STAT_HEIGHT]\n",
    "    roi = cv.cvtColor(frame[y:y+h, x:x+w], cv.COLOR_BGR2GRAY)\n",
    "    va.show(mask[y:y+h, x:x+w], roi)\n",
    "    hist = cv.calcHist(images=[roi], channels=[0], mask=mask[y:y+h, x:x+w], histSize=[256], ranges=[0, 255])\n",
    "    return (x, y, w, h), hist"
   ]
  },
  {
   "cell_type": "code",
   "execution_count": 31,
   "metadata": {},
   "outputs": [],
   "source": [
    "def get_new_window(frame, mask, hist, window):\n",
    "    gray = cv.cvtColor(frame, cv.COLOR_BGR2GRAY)\n",
    "    conf_map = cv.calcBackProject(images=[gray], channels=[0], hist=hist, ranges=[0, 255], scale=1)\n",
    "    conf_map[mask==0]=0\n",
    "    _, new_window = cv.meanShift(probImage=conf_map, window=window, criteria=term_crit)\n",
    "    return new_window"
   ]
  },
  {
   "cell_type": "code",
   "execution_count": 40,
   "metadata": {},
   "outputs": [
    {
     "data": {
      "text/html": [
       "<table><tr><td style='text-align:center;'></td><td style='text-align:center;'></td></tr><tr><td style='text-align:center;'><img src='data:image/png;base64,iVBORw0KGgoAAAANSUhEUgAAAGYAAAF0CAAAAAD03ROaAAAFP0lEQVR4Ab3BUYoDMQwFwe77H/ot+zUwBFuSnVQZHvIthod8i+Eh32J4yLcYHvIthod8i+FN7jO8yX2GN7nP8Cb3Gd7kPsOb3Gf4TG4yfCY3GT6TmwyfyU2Gz+Qmw2dyk+Ezucnwmdxk+ExuMnwmNxk+k5sMn8lNhhW5w7AidxhW5A7DitxhWJE7DCtyh2FF7jCsyB2GFbnDsCJ3GFbkDsOK3GHYk1OGPTll2JNThj05ZdiTU4Y9OWXYk1OGPTll2JNThj05ZdiTU4Y9OWXYk1OGPTll2JNThj05ZdiTU4Y9OWWokjlDlcwZqmTOUCVzhiqZM1TJnKFHJgw9MmHokQlDj0wYemTC0CMThiqZM1TJnKFK5gxVMmeokjlDlcwZqmTOUCVzhiqZM1TJnKFK5gxVMmeokjlDlcwZqmTOUCVzhiqZM1TJnKFK5gxVMmeokjlDlcwZqmTOUCVzhiqZM1TJnKFK5gxVMmeokjlDlcwZ9uSUYU9OGfbklGFPThn25JRhT04Z9uSUYU9OGfbklGFPThn25JRhT04Z9uSUYU9OGfbklGFPThn25JRhT04Z9uSUYU9OGfbklGFPThn25JRhT04Z9uSUYU9OGfbklGFPThn25JRhT04ZqmTOUCVzhiqZM1TJnKFK5gxVMmfokQlDj0wYemTC0CMThh6ZMPTIhKFHJgw9MmHokQlDj0wYemTC0CMThh6ZMPTIhKFHJgw9MmHokQlDj0wYemTC0CMThh6ZMPTIhKFHJgw9MmHokQlDj0wYemTC0CMThh6ZMPTIhKFHJgw9MmHokQlDj0wYemTC0CMThgnpMUxIj2FCegwT0mOYkB7DhPQY5qTKMCdVhjmpMsxJlWFOqgxzUmWYkyrDnFQZ5qTKMCdVhjmpMsxJlWFOqgxzUmWYkyrDnFQZ5qTKMCdVhjmpMsxJlWFOqgxzUmWYkyrDnFQZ5qTKMCdVhjmpMsxJlWFOqgxzUmWYkyrDnFQZ5qTKMCdVhjmpMsxJlWFOqgxzUmWYkyrDnFQZ5qTKMCdVhgnpMUxIj2FCegwT0mOYkB7DhPQYJqTHMCE9hgnpMUxIj2FCegwT0mOYkB7DhPQYJqTHMCE9hgnpMUxIj2FCegwT0mOYkB7DhPQYJqTHMCE9hgnpMUxIj2FCegwT0mOYkB7DhPQYJqTHMCE9hgnpMUxIj2FCegwT0mOYkB7DhPQYJqTHMCE9hgnpMUxIj2FCegwT0mOYkB7DhPQYJqTHMCE9hjmpMsxJlWFOqgxzUmWYkyrDnFQZ5qTKMCdVhjmpMsxJlWFOqgxzUmW4Q1YMd8iK4Q5ZMdwhK4Y7ZMVwh6wY7pAVwx2yYrhDVgx3yIrhDlkx3CErhlOyZzgle4ZTsmc4JXuGU7JnOCV7hlOyZzgle4ZTsmc4JXuGU7JnOCV7hlOyZzgle4ZTsmc4JXuGU7JnOCV7hjtkxXCHrBjukBXDHbJiuENWDHfIiuEOWTHcISuGO2TFcIesGO6QFcMdsmK4T94M98mb4T55M9wnb4b75M1wn7wZvkv+Gb5L/hm+S/4Zvkv+Gb5L/hm+S/4ZfsHwC4ZfMPyC4RcMv2D4BcMvGH7B8AuGXzD8guEXDL9g+AXDLxh+wfALhn/yCHfIw/BPHuEOeRj+ySPcIQ/DP3mEO+Rh+CePcIc8DP/kEe6QhyyFHvlMlkKPfCZLoUc+k6XQI5/JUuiRz2Qp9MhnUhBWZE8KworsSUFYkT0pCCuyJwVhRfakIKzInhSEN+mRgvAmPVIQ3qRHCsKb9EhBeJMeKQhv0vMHQId7cpIJ23UAAAAASUVORK5CYII='></td><td style='text-align:center;'><img src='data:image/png;base64,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'></td></tr></table>"
      ],
      "text/plain": [
       "<IPython.core.display.HTML object>"
      ]
     },
     "metadata": {},
     "output_type": "display_data"
    },
    {
     "ename": "IndexError",
     "evalue": "boolean index did not match indexed array along dimension 0; dimension is 240 but corresponding boolean dimension is 120",
     "output_type": "error",
     "traceback": [
      "\u001b[0;31m---------------------------------------------------------------------------\u001b[0m",
      "\u001b[0;31mIndexError\u001b[0m                                Traceback (most recent call last)",
      "Cell \u001b[0;32mIn[40], line 11\u001b[0m\n\u001b[1;32m      8\u001b[0m \u001b[39mif\u001b[39;00m n \u001b[39m>\u001b[39m \u001b[39m1\u001b[39m:\n\u001b[1;32m      9\u001b[0m     \u001b[39m#Non ho solo il background\u001b[39;00m\n\u001b[1;32m     10\u001b[0m     \u001b[39mfor\u001b[39;00m wnd, hist, label \u001b[39min\u001b[39;00m tracked_objects:\n\u001b[0;32m---> 11\u001b[0m         x, y, w, h \u001b[39m=\u001b[39m get_new_window(frame, mask, hist, wnd)\n\u001b[1;32m     12\u001b[0m         cc_hist, _ \u001b[39m=\u001b[39m np\u001b[39m.\u001b[39mhistogram(cc[y:y\u001b[39m+\u001b[39mh, x:x\u001b[39m+\u001b[39mw], n, (\u001b[39m0\u001b[39m, n))\n\u001b[1;32m     13\u001b[0m         index \u001b[39m=\u001b[39m np\u001b[39m.\u001b[39margmax(cc_hist[\u001b[39m1\u001b[39m:])\u001b[39m+\u001b[39m\u001b[39m1\u001b[39m\n",
      "Cell \u001b[0;32mIn[31], line 4\u001b[0m, in \u001b[0;36mget_new_window\u001b[0;34m(frame, mask, hist, window)\u001b[0m\n\u001b[1;32m      2\u001b[0m gray \u001b[39m=\u001b[39m cv\u001b[39m.\u001b[39mcvtColor(frame, cv\u001b[39m.\u001b[39mCOLOR_BGR2GRAY)\n\u001b[1;32m      3\u001b[0m conf_map \u001b[39m=\u001b[39m cv\u001b[39m.\u001b[39mcalcBackProject(images\u001b[39m=\u001b[39m[gray], channels\u001b[39m=\u001b[39m[\u001b[39m0\u001b[39m], hist\u001b[39m=\u001b[39mhist, ranges\u001b[39m=\u001b[39m[\u001b[39m0\u001b[39m, \u001b[39m255\u001b[39m], scale\u001b[39m=\u001b[39m\u001b[39m1\u001b[39m)\n\u001b[0;32m----> 4\u001b[0m conf_map[mask\u001b[39m==\u001b[39;49m\u001b[39m0\u001b[39;49m]\u001b[39m=\u001b[39m\u001b[39m0\u001b[39m\n\u001b[1;32m      5\u001b[0m _, new_window \u001b[39m=\u001b[39m cv\u001b[39m.\u001b[39mmeanShift(probImage\u001b[39m=\u001b[39mconf_map, window\u001b[39m=\u001b[39mwindow, criteria\u001b[39m=\u001b[39mterm_crit)\n\u001b[1;32m      6\u001b[0m \u001b[39mreturn\u001b[39;00m new_window\n",
      "\u001b[0;31mIndexError\u001b[0m: boolean index did not match indexed array along dimension 0; dimension is 240 but corresponding boolean dimension is 120"
     ]
    }
   ],
   "source": [
    "tracked_objects = []\n",
    "next_label = 1\n",
    "res_tracking = []\n",
    "\n",
    "for frame, mask in fm3[1:]:\n",
    "    n, cc, stats, _ = cv.connectedComponentsWithStats(mask)\n",
    "    cc_used, next_tracked_objects = set(), []\n",
    "    if n > 1:\n",
    "        #Non ho solo il background\n",
    "        for wnd, hist, label in tracked_objects:\n",
    "            x, y, w, h = get_new_window(frame, mask, hist, wnd)\n",
    "            cc_hist, _ = np.histogram(cc[y:y+h, x:x+w], n, (0, n))\n",
    "            index = np.argmax(cc_hist[1:])+1\n",
    "            if index not in cc_used and cc_hist[index] >= MIN_ARE_IN_WND:\n",
    "                wnd, hist = get_window_hist(index, frame, stats, mask) # Un nuovo oggetto viene trovato nell'immagine che non era gia stato etichettato\n",
    "                next_tracked_objects.append((wnd, hist, label))\n",
    "                cc_used.add(index)\n",
    "                \n",
    "        for i in range(1, n):\n",
    "            if (stats[i, cv.CC_STAT_AREA] >= MIN_AREA) and (i not in cc_used):\n",
    "                wnd, hist = get_window_hist(i, frame, stats, mask)\n",
    "                next_tracked_objects.append((wnd, hist, next_label))\n",
    "                next_label += 1\n",
    "        tracked_objects = next_tracked_objects\n",
    "        \n",
    "        res = frame.copy()\n",
    "        \n",
    "        for (x,y,w,h), hist, label in tracked_objects:\n",
    "            cv.rectangle(res, (x,y), (x+w, y+h), 255, 2)\n",
    "            cv.rectangle(res, (x, y-22), (x+w, y), 255, -1)\n",
    "            cv.putText(res, f\"{label}\", (x+5, y-5), cv.FONT_HERSHEY_PLAIN, 1, 0, 1)\n",
    "        \n",
    "        res_tracking.append(res)"
   ]
  }
 ],
 "metadata": {
  "kernelspec": {
   "display_name": "Python 3",
   "language": "python",
   "name": "python3"
  },
  "language_info": {
   "codemirror_mode": {
    "name": "ipython",
    "version": 3
   },
   "file_extension": ".py",
   "mimetype": "text/x-python",
   "name": "python",
   "nbconvert_exporter": "python",
   "pygments_lexer": "ipython3",
   "version": "3.10.6"
  },
  "orig_nbformat": 4
 },
 "nbformat": 4,
 "nbformat_minor": 2
}
