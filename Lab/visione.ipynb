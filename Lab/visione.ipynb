{
 "cells": [
  {
   "attachments": {},
   "cell_type": "markdown",
   "metadata": {},
   "source": [
    "# Appunti Python\n",
    "\n",
    "## Tipi di dato\n",
    "\n",
    "* **None**: viene utilizzato per inizializzare un oggetto senza alcun valore, è un oggetto NoneType\n",
    "\n",
    "* **Int**: valori interi con 32 o 64 bit\n",
    "\n",
    "* **Float**: numeri con la virgola in doppia precisione a livello macchina (è il double)\n",
    "\n",
    "* **Complex**: numeri complessi rappresentati da una coppia di float\n",
    "\n",
    "* **String**: Insieme di caratteri UNICODE. \n",
    "\n",
    "Tutti i tipi numerici e le stringhe sono **IMMUTABILI**."
   ]
  },
  {
   "cell_type": "code",
   "execution_count": 1,
   "metadata": {},
   "outputs": [],
   "source": [
    "x = None\n",
    "y = 1\n",
    "z = 2.8\n",
    "a = \"Hello World!\""
   ]
  },
  {
   "attachments": {},
   "cell_type": "markdown",
   "metadata": {},
   "source": [
    "### Operazioni su Stringhe\n",
    "\n",
    "Concatenazione tramite il '+'. E' inoltre possibile ad accedere ad un singolo elemento come se fosse un array, oltre a questo è possibile ottenere la lunghezza della stringa tramite il metodo 'len'. \n",
    "\n",
    "Facendo iniziare una string a con ' \"\"\" ' si inizializza una stringa multilinea. \n",
    "\n",
    "* **.upper()**: si ottiene tutta la stringa in maiuscolo\n",
    "\n",
    "* **.lower()**: si ottiene tutta la stringa in minuscolo\n",
    "\n",
    "* **.replace(A, X)**: sostituisco tutte le 'A' con la 'X'.\n",
    "\n",
    "### Formatted String \n",
    "Possibilità di scrivere all'interno di una stringa"
   ]
  },
  {
   "cell_type": "code",
   "execution_count": 1,
   "metadata": {},
   "outputs": [
    {
     "data": {
      "text/plain": [
       "12"
      ]
     },
     "execution_count": 1,
     "metadata": {},
     "output_type": "execute_result"
    }
   ],
   "source": [
    "string1 = \"Hello \"\n",
    "string2 = \"World!\"\n",
    "\n",
    "string3 = string1+string2\n",
    "\n",
    "string3[3]\n",
    "len(string3)\n",
    "\n",
    "\n",
    "s = f'Formatted String {string1} with two decimals {x:.2f}'"
   ]
  },
  {
   "attachments": {},
   "cell_type": "markdown",
   "metadata": {},
   "source": [
    "## Cast\n",
    "\n",
    "I cast vengono effettuati con il nome della classe a cui si vuole effettuare il **cast**."
   ]
  },
  {
   "cell_type": "code",
   "execution_count": null,
   "metadata": {},
   "outputs": [],
   "source": [
    "integer = 2\n",
    "floating = 2.5\n",
    "x = float(integer)\n",
    "y = int(floating)"
   ]
  },
  {
   "attachments": {},
   "cell_type": "markdown",
   "metadata": {},
   "source": [
    "## Booleani\n",
    "\n",
    "Due possibili valori: True e False"
   ]
  },
  {
   "cell_type": "code",
   "execution_count": 2,
   "metadata": {},
   "outputs": [
    {
     "name": "stdout",
     "output_type": "stream",
     "text": [
      "27\n"
     ]
    }
   ],
   "source": [
    "a = True\n",
    "b = False\n",
    "\n",
    "c = not a\n",
    "d = a and b\n",
    "\n",
    "x = 3\n",
    "print(x := x**3)\n"
   ]
  },
  {
   "attachments": {},
   "cell_type": "markdown",
   "metadata": {},
   "source": [
    "## Operatori di Idenità\n",
    "\n",
    "* **is**: returns True if both variables *refer* (same id) to the same object, x is y\n",
    "\n",
    "* **is not**: returns True if both variables refer to different objects, x is not y\n",
    "\n",
    "## Operatori di Appartenenza\n",
    "\n",
    "* **in**: returns True if a sequence is contained inside a collection, x in list\n",
    "\n"
   ]
  },
  {
   "cell_type": "code",
   "execution_count": 3,
   "metadata": {},
   "outputs": [
    {
     "name": "stdout",
     "output_type": "stream",
     "text": [
      "Sono diversi\n"
     ]
    }
   ],
   "source": [
    "x = 1\n",
    "y = 2\n",
    "if x is y:\n",
    "    print(\"Sono uguali\")\n",
    "elif x is not y:\n",
    "    print(\"Sono diversi\")"
   ]
  },
  {
   "cell_type": "code",
   "execution_count": 24,
   "metadata": {},
   "outputs": [
    {
     "name": "stdout",
     "output_type": "stream",
     "text": [
      "2180542957072 2180542957072 True True\n"
     ]
    }
   ],
   "source": [
    "x = 42\n",
    "a = x\n",
    "print(id(a), id(x), bool(x), x==a)"
   ]
  },
  {
   "cell_type": "markdown",
   "metadata": {
    "tags": [
     "Slicing"
    ]
   },
   "source": [
    "### Slicing\n",
    "\n",
    "Lo slicing sè una operazione che può essere effettuata sulle collezzioni di elementi (liste, stringhe, ...). Lo slicing prevede di specificare un insieme di indici che permettono di navigare la nostra collezione.\n",
    "\n",
    "**List[i:j]**: \n",
    "* i: è primo elemento da cui partire, il suo valore è incluso nella lista di conseguenza se i vale 0, il primo elemento da cui si parte è 0.\n",
    "* j: è l'elemento su cui fermarsi, il suo valore è escluso di conseguenza se il suo valore vale 5 ci fermeremo all'elemento di valore 4. \n",
    "\n",
    "Nel caso in cui *j* non fosse specificato, vuol dire che si andrà a considerare l'intera lista, si partirà dall'indice *i* e ci si fermera all'ultimo elemento della collezione.\n",
    "\n",
    "Se invece non si va a specificare il primo valore, *i* vorrà dire che si parte dal primo elemento della lista, l'indice 0.\n",
    "\n",
    "**List[i:j:z]**:\n",
    "* z: è lo 'step size', di conseguenza una volta ottenuta la lista con lo slicing l1[i:j] andremo a prendere solamente gli elementi con passo z, ad esempio se il nostro output di l1[i:j] fosse [1, 2 ,3 ,4 ,5, 6] e 'z' dovesse valere 3, il nostro output sarebbe [1, 4], [1(prendo), 2(salto), 3(salto), 4(prendo), 5(salto), 6(salto)] nel caso in cui ci fosse stato il valore '7' questo sarebbe stato prelevato."
   ]
  },
  {
   "cell_type": "code",
   "execution_count": 4,
   "metadata": {},
   "outputs": [
    {
     "name": "stdout",
     "output_type": "stream",
     "text": [
      "[2, 3, 4, 5, 6]\n",
      "[1, 2]\n",
      "[1, 4]\n"
     ]
    }
   ],
   "source": [
    "l1 = [1, 2, 3, 4, 5, 6]\n",
    "print(l1[1:])\n",
    "print(l1[:2])\n",
    "print(l1[::3])"
   ]
  },
  {
   "attachments": {},
   "cell_type": "markdown",
   "metadata": {},
   "source": [
    "Tramite il metodo **enumerate** è possibile ottenere da una lista gli indici dei singoli elementi mentre questi si ciclano, come se si stesse ciclando un **dizionario** in quanto è possibile ottenere due valori :\n",
    "* *k*: la chiave ovvero il nostro indice intero\n",
    "* *v*: il valore contenuto all'interno della lista"
   ]
  },
  {
   "cell_type": "code",
   "execution_count": 6,
   "metadata": {},
   "outputs": [
    {
     "name": "stdout",
     "output_type": "stream",
     "text": [
      "K: 0 V: a\n",
      "K: 1 V: b\n",
      "K: 2 V: c\n",
      "For with two variables\n",
      "K: 0 V: a\n",
      "K: 1 V: b\n",
      "K: 2 V: c\n",
      "[[1], [2, 2], [3, 3, 3]]\n"
     ]
    }
   ],
   "source": [
    "l1 = [1, 2]\n",
    "l2 = [1, 2, 3]\n",
    "\n",
    "a = ['a', 'b', 'c']\n",
    "for x in enumerate(a):\n",
    "    print(f\"K: {x[0]} V: {x[1]}\")\n",
    "print(\"For with two variables\")\n",
    "for k,v in enumerate(a):\n",
    "    print(f\"K: {k} V: {v}\")\n",
    "l3 = [[el2]*el2 for el2 in l2]\n",
    "print(l3)"
   ]
  },
  {
   "attachments": {},
   "cell_type": "markdown",
   "metadata": {},
   "source": [
    "### Tuple\n",
    "\n",
    "Una tupla è un insieme di valori contenuti tutti sotto un unico oggetto, gli elementi possono essere di qualsiasi tipo. L'accesso agli elementi della tupla può essere fatto come quello di una listaa qualsiasi. E' possibile inoltre ciclare sugli elementi di una tupla."
   ]
  },
  {
   "cell_type": "code",
   "execution_count": null,
   "metadata": {},
   "outputs": [],
   "source": [
    "t1 = 1, 2, \"ciao\", [1, 2, 3], {101:\"AO\", 102:\"AO\"}\n",
    "l = [1, 2, 3]\n",
    "print(t1)\n",
    "for el in t1:\n",
    "    print(f\"Element : {el}\")\n",
    "    if type(el) is list:\n",
    "        print(f\"Element : {el} is a list\")\n",
    "        for x in el:\n",
    "            print(f\"value inside el list : {x}\")\n",
    "    elif type(el) is dict:\n",
    "        print(f\"Element : {el} is a dictionary\")\n",
    "        for k,v in el.items():\n",
    "            print(f\"values inside dictionary el -> k: {k} v: {v}\")\n",
    "\n",
    "x, y, *resto = 1, 2.4, 2, 4, 5, 7, 8\n",
    "print(x)\n",
    "print(resto)"
   ]
  },
  {
   "attachments": {},
   "cell_type": "markdown",
   "metadata": {},
   "source": [
    "### Dictionaries\n",
    "\n",
    "Collezzione di chiave-valore, le chiavi sono univoche mentre i valori possono ripetersi.\n",
    "\n",
    "*Metodi utili:*\n",
    "* .keys() &rarr; ritorna tutte le chiavi\n",
    "* .values() &rarr; ritorna tutti i valori\n",
    "* .items() &rarr; ritorna tutte le corrispondenze chiave-valore"
   ]
  },
  {
   "cell_type": "code",
   "execution_count": null,
   "metadata": {},
   "outputs": [],
   "source": [
    "students = {101:\"Nome1\", 102:\"Nome2\"}\n",
    "for mat in students:\n",
    "    print(mat)\n",
    "    print(students[mat])\n",
    "    \n",
    "\n",
    "for mat in students.keys():\n",
    "    print(mat)\n",
    "\n",
    "for name in students.values():\n",
    "    print(name)\n",
    "\n",
    "for mat, name in students.items():\n",
    "    print(f\"k: {mat} v: {name}\")\n",
    "students2 = {m: students[m] for m in students if m % 2 == 0}\n",
    "\n",
    "#the key of the dictionary in this case is the tuple (k, v)\n",
    "dictRand = {(k, v): k+v for k in range(4) for v in range(4)}\n",
    "print(dictRand)\n",
    "print(students2)"
   ]
  },
  {
   "attachments": {},
   "cell_type": "markdown",
   "metadata": {},
   "source": [
    "### Functions\n",
    "\n",
    "Subito dopo aver definito una funzione è possibile inserire una stringa che ne costituisce la sua documentazione effettiva. \n",
    "\n",
    "Questa stringa di documentazione la si puo prendere tramite il metodo : *myfunction._ _ doc _ _*\n"
   ]
  },
  {
   "cell_type": "code",
   "execution_count": 8,
   "metadata": {},
   "outputs": [
    {
     "name": "stdout",
     "output_type": "stream",
     "text": [
      "<function sostituisci at 0x7f1d4cfe79a0>\n",
      "String di documentazione\n",
      "[1, 0, 3, 4, 0, 1, 0, 4]\n",
      "[1, 0, 3, 4, 0, 1, 0, 4]\n"
     ]
    }
   ],
   "source": [
    "def sostituisci(lista, x, y):\n",
    "    \"String di documentazione\"\n",
    "    for indice, valore in enumerate(lista):\n",
    "        if(valore == x):\n",
    "            lista[indice] = y\n",
    "    print(lista)\n",
    "\n",
    "def sostituisci2(lista, x, y):\n",
    "    lista[:] = [y if v==x else v for v in lista]\n",
    "    print(lista)\n",
    "\n",
    "funct = sostituisci # puntatore della funzione\n",
    "print(funct)\n",
    "func = sostituisci.__doc__\n",
    "print(func)\n",
    "\n",
    "lista = [1, 2 ,3 ,4, 2, 1, 2, 4]\n",
    "sostituisci(lista, 2, 0)\n",
    "sostituisci2(lista, 2, 0)\n"
   ]
  },
  {
   "attachments": {},
   "cell_type": "markdown",
   "metadata": {
    "tags": []
   },
   "source": [
    "### Numero variabile di parametri\n",
    "\n",
    "Si possono in oltre specificare un insieme indefinito di parametri per la nostra funzione, dando anche la possibilità di specificare:\n",
    "* \"*list\": in questo caso la list non è obbligatoria e si aspettera in input una lista\n",
    "* \"**dict\": in questo caso in input ci si potrebbe aspettare un dizionario\n",
    "  "
   ]
  },
  {
   "cell_type": "code",
   "execution_count": null,
   "metadata": {},
   "outputs": [],
   "source": [
    "def sostituisci(lista, *list, **dictionary):\n",
    "    print(lista)\n",
    "    for el in list:\n",
    "        print(el)\n",
    "    \n",
    "    for k, v in dictionary.items():\n",
    "        print(f\"K: {k} V : {v}\")\n",
    "\n",
    "sostituisci(\"ciao\", \n",
    "            \"ciao\", \"come\", \"va\", \"quetsa\", \"è una\", \"lista\",\n",
    "            M101=\"Questo\", M102=\"è un\", M103=\"dizionario\")\n",
    "    "
   ]
  }
 ],
 "metadata": {
  "kernelspec": {
   "display_name": "Python 3",
   "language": "python",
   "name": "python3"
  },
  "language_info": {
   "codemirror_mode": {
    "name": "ipython",
    "version": 3
   },
   "file_extension": ".py",
   "mimetype": "text/x-python",
   "name": "python",
   "nbconvert_exporter": "python",
   "pygments_lexer": "ipython3",
   "version": "3.10.6"
  },
  "orig_nbformat": 4,
  "vscode": {
   "interpreter": {
    "hash": "916dbcbb3f70747c44a77c7bcd40155683ae19c65e1c03b4aa3499c5328201f1"
   }
  }
 },
 "nbformat": 4,
 "nbformat_minor": 2
}
